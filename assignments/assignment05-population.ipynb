{
 "cells": [
  {
   "cell_type": "markdown",
   "id": "114b4839",
   "metadata": {},
   "source": []
  },
  {
   "cell_type": "markdown",
   "id": "97704482",
   "metadata": {},
   "source": [
    "# Assignment 5 - Analysis and Some Stats\n",
    "\n",
    "**Course:** Programming for Data Analytics  \n",
    "**Lecture:** Module 5 : Analysis and Some Stats  \n",
    "**Author:** Clyde Watts\n",
    "**Date:** 2025-10-25\n",
    "**Assignment:** Ireland Population Status\n"
   ]
  },
  {
   "cell_type": "markdown",
   "id": "0e940dcc",
   "metadata": {},
   "source": [
    "## Assigment Instructions\n",
    "\n",
    "Upload the notebook assignment05-population.ipynb to you assignments repository.\n",
    "\n",
    "### Part 1 70%\n",
    "Write a jupyter notebook that analyses the differences between the sexes by age in Ireland.\n",
    "\n",
    "Weighted mean age (by sex)\n",
    "The difference between the sexes by age\n",
    "This part does not need to look at the regions.\n",
    "\n",
    "ie You can take the notebook I used in the lectures and substitute the sexes for the regions.\n",
    "\n",
    "### Part 2 20%\n",
    "In the same notebook, make a variable that stores an age (say 35).\n",
    "\n",
    "Write that code that would group the people within 5 years of that age together, into one age group \n",
    "\n",
    "Calculate the population difference between the sexes in that age group.\n",
    "\n",
    "### Part 3 10%\n",
    "In the same notebook.\n",
    "\n",
    "Write the code that would work out which region in Ireland has the biggest population difference between the sexes in that age group\n",
    "\n",
    "Last modified: Thursday, 23 October 2025, 3:30 PM\n",
    "\n"
   ]
  },
  {
   "cell_type": "markdown",
   "id": "a6ee720c",
   "metadata": {},
   "source": []
  },
  {
   "cell_type": "code",
   "execution_count": 174,
   "id": "9c2c1069",
   "metadata": {},
   "outputs": [],
   "source": [
    "import pandas as pd\n",
    "import numpy as np\n",
    "import matplotlib.pyplot as plt\n",
    "import seaborn as sns"
   ]
  },
  {
   "cell_type": "markdown",
   "id": "b93f5168",
   "metadata": {},
   "source": [
    "## The Differences between the male and female populate by age in Ireland\n",
    "\n",
    "\n",
    "### Part 1 70%\n",
    "Write a jupyter notebook that analyses the differences between the sexes by age in Ireland.\n",
    "\n",
    "Weighted mean age (by sex)\n",
    "The difference between the sexes by age\n",
    "This part does not need to look at the regions.\n",
    "\n",
    "ie You can take the notebook I used in the lectures and substitute the sexes for the regions.\n",
    "\n",
    "**References**\n",
    "\n",
    "\n",
    "https://data.cso.ie/#\n",
    "https://ws.cso.ie/public/api.restful/PxStat.Data.Cube_API.ReadDataset/FY006A/CSV/1.0/en\n",
    "\n",
    "\n"
   ]
  },
  {
   "cell_type": "markdown",
   "id": "471a0add",
   "metadata": {},
   "source": [
    "**Download the data using URL into Dataframe**\n",
    "\n",
    "\n",
    "Note: \n",
    "\n",
    "This system ( my laptop ) has vscode extension Data Wrangler . This will allow me to explore the data quickly.\n",
    "\n",
    "\n"
   ]
  },
  {
   "cell_type": "code",
   "execution_count": 175,
   "id": "a9590eeb",
   "metadata": {},
   "outputs": [
    {
     "name": "stdout",
     "output_type": "stream",
     "text": [
      "Data Frame Columns: ['STATISTIC', 'Statistic Label', 'TLIST(A1)', 'CensusYear', 'C02199V02655', 'Sex', 'C02076V03371', 'Single Year of Age', 'C03789V04537', 'Administrative Counties', 'UNIT', 'VALUE']\n",
      "Data Frame Index: RangeIndex(start=0, stop=9792, step=1)\n"
     ]
    },
    {
     "data": {
      "application/vnd.microsoft.datawrangler.viewer.v0+json": {
       "columns": [
        {
         "name": "index",
         "rawType": "int64",
         "type": "integer"
        },
        {
         "name": "STATISTIC",
         "rawType": "object",
         "type": "string"
        },
        {
         "name": "Statistic Label",
         "rawType": "object",
         "type": "string"
        },
        {
         "name": "TLIST(A1)",
         "rawType": "int64",
         "type": "integer"
        },
        {
         "name": "CensusYear",
         "rawType": "int64",
         "type": "integer"
        },
        {
         "name": "C02199V02655",
         "rawType": "object",
         "type": "string"
        },
        {
         "name": "Sex",
         "rawType": "object",
         "type": "string"
        },
        {
         "name": "C02076V03371",
         "rawType": "object",
         "type": "string"
        },
        {
         "name": "Single Year of Age",
         "rawType": "object",
         "type": "string"
        },
        {
         "name": "C03789V04537",
         "rawType": "object",
         "type": "string"
        },
        {
         "name": "Administrative Counties",
         "rawType": "object",
         "type": "string"
        },
        {
         "name": "UNIT",
         "rawType": "object",
         "type": "string"
        },
        {
         "name": "VALUE",
         "rawType": "int64",
         "type": "integer"
        }
       ],
       "ref": "a28482b4-8e4a-4a31-8900-9a6881fa381f",
       "rows": [
        [
         "0",
         "FY006AC01",
         "Population",
         "2022",
         "2022",
         "-",
         "Both sexes",
         "-",
         "All ages",
         "IE0",
         "Ireland",
         "Number",
         "5149139"
        ],
        [
         "1",
         "FY006AC01",
         "Population",
         "2022",
         "2022",
         "-",
         "Both sexes",
         "-",
         "All ages",
         "2ae19629-1492-13a3-e055-000000000001",
         "Carlow County Council",
         "Number",
         "61968"
        ],
        [
         "2",
         "FY006AC01",
         "Population",
         "2022",
         "2022",
         "-",
         "Both sexes",
         "-",
         "All ages",
         "2ae19629-1433-13a3-e055-000000000001",
         "Dublin City Council",
         "Number",
         "592713"
        ],
        [
         "3",
         "FY006AC01",
         "Population",
         "2022",
         "2022",
         "-",
         "Both sexes",
         "-",
         "All ages",
         "2ae19629-149f-13a3-e055-000000000001",
         "Dún Laoghaire Rathdown County Council",
         "Number",
         "233860"
        ],
        [
         "4",
         "FY006AC01",
         "Population",
         "2022",
         "2022",
         "-",
         "Both sexes",
         "-",
         "All ages",
         "2ae19629-14a0-13a3-e055-000000000001",
         "Fingal County Council",
         "Number",
         "330506"
        ]
       ],
       "shape": {
        "columns": 12,
        "rows": 5
       }
      },
      "text/html": [
       "<div>\n",
       "<style scoped>\n",
       "    .dataframe tbody tr th:only-of-type {\n",
       "        vertical-align: middle;\n",
       "    }\n",
       "\n",
       "    .dataframe tbody tr th {\n",
       "        vertical-align: top;\n",
       "    }\n",
       "\n",
       "    .dataframe thead th {\n",
       "        text-align: right;\n",
       "    }\n",
       "</style>\n",
       "<table border=\"1\" class=\"dataframe\">\n",
       "  <thead>\n",
       "    <tr style=\"text-align: right;\">\n",
       "      <th></th>\n",
       "      <th>STATISTIC</th>\n",
       "      <th>Statistic Label</th>\n",
       "      <th>TLIST(A1)</th>\n",
       "      <th>CensusYear</th>\n",
       "      <th>C02199V02655</th>\n",
       "      <th>Sex</th>\n",
       "      <th>C02076V03371</th>\n",
       "      <th>Single Year of Age</th>\n",
       "      <th>C03789V04537</th>\n",
       "      <th>Administrative Counties</th>\n",
       "      <th>UNIT</th>\n",
       "      <th>VALUE</th>\n",
       "    </tr>\n",
       "  </thead>\n",
       "  <tbody>\n",
       "    <tr>\n",
       "      <th>0</th>\n",
       "      <td>FY006AC01</td>\n",
       "      <td>Population</td>\n",
       "      <td>2022</td>\n",
       "      <td>2022</td>\n",
       "      <td>-</td>\n",
       "      <td>Both sexes</td>\n",
       "      <td>-</td>\n",
       "      <td>All ages</td>\n",
       "      <td>IE0</td>\n",
       "      <td>Ireland</td>\n",
       "      <td>Number</td>\n",
       "      <td>5149139</td>\n",
       "    </tr>\n",
       "    <tr>\n",
       "      <th>1</th>\n",
       "      <td>FY006AC01</td>\n",
       "      <td>Population</td>\n",
       "      <td>2022</td>\n",
       "      <td>2022</td>\n",
       "      <td>-</td>\n",
       "      <td>Both sexes</td>\n",
       "      <td>-</td>\n",
       "      <td>All ages</td>\n",
       "      <td>2ae19629-1492-13a3-e055-000000000001</td>\n",
       "      <td>Carlow County Council</td>\n",
       "      <td>Number</td>\n",
       "      <td>61968</td>\n",
       "    </tr>\n",
       "    <tr>\n",
       "      <th>2</th>\n",
       "      <td>FY006AC01</td>\n",
       "      <td>Population</td>\n",
       "      <td>2022</td>\n",
       "      <td>2022</td>\n",
       "      <td>-</td>\n",
       "      <td>Both sexes</td>\n",
       "      <td>-</td>\n",
       "      <td>All ages</td>\n",
       "      <td>2ae19629-1433-13a3-e055-000000000001</td>\n",
       "      <td>Dublin City Council</td>\n",
       "      <td>Number</td>\n",
       "      <td>592713</td>\n",
       "    </tr>\n",
       "    <tr>\n",
       "      <th>3</th>\n",
       "      <td>FY006AC01</td>\n",
       "      <td>Population</td>\n",
       "      <td>2022</td>\n",
       "      <td>2022</td>\n",
       "      <td>-</td>\n",
       "      <td>Both sexes</td>\n",
       "      <td>-</td>\n",
       "      <td>All ages</td>\n",
       "      <td>2ae19629-149f-13a3-e055-000000000001</td>\n",
       "      <td>Dún Laoghaire Rathdown County Council</td>\n",
       "      <td>Number</td>\n",
       "      <td>233860</td>\n",
       "    </tr>\n",
       "    <tr>\n",
       "      <th>4</th>\n",
       "      <td>FY006AC01</td>\n",
       "      <td>Population</td>\n",
       "      <td>2022</td>\n",
       "      <td>2022</td>\n",
       "      <td>-</td>\n",
       "      <td>Both sexes</td>\n",
       "      <td>-</td>\n",
       "      <td>All ages</td>\n",
       "      <td>2ae19629-14a0-13a3-e055-000000000001</td>\n",
       "      <td>Fingal County Council</td>\n",
       "      <td>Number</td>\n",
       "      <td>330506</td>\n",
       "    </tr>\n",
       "  </tbody>\n",
       "</table>\n",
       "</div>"
      ],
      "text/plain": [
       "   STATISTIC Statistic Label  TLIST(A1)  CensusYear C02199V02655         Sex  \\\n",
       "0  FY006AC01      Population       2022        2022            -  Both sexes   \n",
       "1  FY006AC01      Population       2022        2022            -  Both sexes   \n",
       "2  FY006AC01      Population       2022        2022            -  Both sexes   \n",
       "3  FY006AC01      Population       2022        2022            -  Both sexes   \n",
       "4  FY006AC01      Population       2022        2022            -  Both sexes   \n",
       "\n",
       "  C02076V03371 Single Year of Age                          C03789V04537  \\\n",
       "0            -           All ages                                   IE0   \n",
       "1            -           All ages  2ae19629-1492-13a3-e055-000000000001   \n",
       "2            -           All ages  2ae19629-1433-13a3-e055-000000000001   \n",
       "3            -           All ages  2ae19629-149f-13a3-e055-000000000001   \n",
       "4            -           All ages  2ae19629-14a0-13a3-e055-000000000001   \n",
       "\n",
       "                 Administrative Counties    UNIT    VALUE  \n",
       "0                                Ireland  Number  5149139  \n",
       "1                  Carlow County Council  Number    61968  \n",
       "2                    Dublin City Council  Number   592713  \n",
       "3  Dún Laoghaire Rathdown County Council  Number   233860  \n",
       "4                  Fingal County Council  Number   330506  "
      ]
     },
     "execution_count": 175,
     "metadata": {},
     "output_type": "execute_result"
    }
   ],
   "source": [
    "# Download data from URL into Dataframe\n",
    "URL = \"https://ws.cso.ie/public/api.restful/PxStat.Data.Cube_API.ReadDataset/FY006A/CSV/1.0/en\"\n",
    "df_raw = pd.read_csv(URL)\n",
    "# Get column list\n",
    "print(\"Data Frame Columns:\",df_raw.columns.to_list())\n",
    "# Get index \n",
    "print(\"Data Frame Index:\",df_raw.index)\n",
    "df_raw.head()"
   ]
  },
  {
   "cell_type": "markdown",
   "id": "f5324310",
   "metadata": {},
   "source": [
    "I am interested in the following Columns , Sex , 'Single Year of Age',  'Administrative Counties'"
   ]
  },
  {
   "cell_type": "code",
   "execution_count": 176,
   "id": "52377d64",
   "metadata": {},
   "outputs": [
    {
     "data": {
      "application/vnd.microsoft.datawrangler.viewer.v0+json": {
       "columns": [
        {
         "name": "Sex",
         "rawType": "object",
         "type": "string"
        },
        {
         "name": "VALUE",
         "rawType": "int64",
         "type": "integer"
        }
       ],
       "ref": "9ab9464b-373d-4441-b5a5-ccca30786ed3",
       "rows": [
        [
         "Both sexes",
         "20596556"
        ],
        [
         "Female",
         "10418360"
        ],
        [
         "Male",
         "10178196"
        ]
       ],
       "shape": {
        "columns": 1,
        "rows": 3
       }
      },
      "text/plain": [
       "Sex\n",
       "Both sexes    20596556\n",
       "Female        10418360\n",
       "Male          10178196\n",
       "Name: VALUE, dtype: int64"
      ]
     },
     "execution_count": 176,
     "metadata": {},
     "output_type": "execute_result"
    }
   ],
   "source": [
    "# Get the sum of values by Sex \n",
    "# This will tell me if that Both sexes is a agregation of Female and Male\n",
    "df_raw.groupby(['Sex']).sum()['VALUE']\n",
    "# I assume that \"Both sexes\" is the some of Male and Female "
   ]
  },
  {
   "cell_type": "code",
   "execution_count": 177,
   "id": "66614fcb",
   "metadata": {},
   "outputs": [
    {
     "data": {
      "application/vnd.microsoft.datawrangler.viewer.v0+json": {
       "columns": [
        {
         "name": "Single Year of Age",
         "rawType": "object",
         "type": "string"
        },
        {
         "name": "VALUE",
         "rawType": "int64",
         "type": "integer"
        }
       ],
       "ref": "37de5c4c-f41f-4ca5-8983-1f11720c2f96",
       "rows": [
        [
         "1 year",
         "225680"
        ],
        [
         "10 years",
         "296404"
        ],
        [
         "100 years and over",
         "2952"
        ],
        [
         "11 years",
         "300636"
        ],
        [
         "12 years",
         "305016"
        ],
        [
         "13 years",
         "301024"
        ],
        [
         "14 years",
         "293728"
        ],
        [
         "15 years",
         "281760"
        ],
        [
         "16 years",
         "271256"
        ],
        [
         "17 years",
         "272104"
        ],
        [
         "18 years",
         "267008"
        ],
        [
         "19 years",
         "258384"
        ],
        [
         "2 years",
         "236840"
        ],
        [
         "20 years",
         "254976"
        ],
        [
         "21 years",
         "242644"
        ],
        [
         "22 years",
         "248872"
        ],
        [
         "23 years",
         "243688"
        ],
        [
         "24 years",
         "238392"
        ],
        [
         "25 years",
         "237052"
        ],
        [
         "26 years",
         "232960"
        ],
        [
         "27 years",
         "234760"
        ],
        [
         "28 years",
         "234760"
        ],
        [
         "29 years",
         "243700"
        ],
        [
         "3 years",
         "241936"
        ],
        [
         "30 years",
         "254796"
        ],
        [
         "31 years",
         "263788"
        ],
        [
         "32 years",
         "267180"
        ],
        [
         "33 years",
         "265508"
        ],
        [
         "34 years",
         "277620"
        ],
        [
         "35 years",
         "290540"
        ],
        [
         "36 years",
         "299432"
        ],
        [
         "37 years",
         "302480"
        ],
        [
         "38 years",
         "313660"
        ],
        [
         "39 years",
         "325364"
        ],
        [
         "4 years",
         "246020"
        ],
        [
         "40 years",
         "333776"
        ],
        [
         "41 years",
         "340388"
        ],
        [
         "42 years",
         "339924"
        ],
        [
         "43 years",
         "322732"
        ],
        [
         "44 years",
         "309276"
        ],
        [
         "45 years",
         "304864"
        ],
        [
         "46 years",
         "301664"
        ],
        [
         "47 years",
         "298096"
        ],
        [
         "48 years",
         "294468"
        ],
        [
         "49 years",
         "294924"
        ],
        [
         "5 years",
         "256104"
        ],
        [
         "50 years",
         "288996"
        ],
        [
         "51 years",
         "279804"
        ],
        [
         "52 years",
         "275080"
        ],
        [
         "53 years",
         "259260"
        ]
       ],
       "shape": {
        "columns": 1,
        "rows": 102
       }
      },
      "text/plain": [
       "Single Year of Age\n",
       "1 year                  225680\n",
       "10 years                296404\n",
       "100 years and over        2952\n",
       "11 years                300636\n",
       "12 years                305016\n",
       "                        ...   \n",
       "97 years                  3796\n",
       "98 years                  2488\n",
       "99 years                  1764\n",
       "All ages              20596556\n",
       "Under 1 year            231184\n",
       "Name: VALUE, Length: 102, dtype: int64"
      ]
     },
     "execution_count": 177,
     "metadata": {},
     "output_type": "execute_result"
    }
   ],
   "source": [
    "# Get the sum of the 'Single Year of Age'\n",
    "df_raw.groupby(['Single Year of Age'],sort=True).sum()['VALUE']\n"
   ]
  },
  {
   "cell_type": "code",
   "execution_count": 178,
   "id": "07ad5a06",
   "metadata": {},
   "outputs": [
    {
     "data": {
      "application/vnd.microsoft.datawrangler.viewer.v0+json": {
       "columns": [
        {
         "name": "Administrative Counties",
         "rawType": "object",
         "type": "string"
        },
        {
         "name": "VALUE",
         "rawType": "int64",
         "type": "integer"
        }
       ],
       "ref": "a5337192-4740-48f3-9666-3edd3a83d9a8",
       "rows": [
        [
         "Carlow County Council",
         "247872"
        ],
        [
         "Cavan County Council",
         "326816"
        ],
        [
         "Clare County Council",
         "511752"
        ],
        [
         "Cork City Council",
         "896016"
        ],
        [
         "Cork County Council",
         "1440608"
        ],
        [
         "Donegal County Council",
         "668336"
        ],
        [
         "Dublin City Council",
         "2370852"
        ],
        [
         "Dún Laoghaire Rathdown County Council",
         "935440"
        ],
        [
         "Fingal County Council",
         "1322024"
        ],
        [
         "Galway City Council",
         "337656"
        ],
        [
         "Galway County Council",
         "773292"
        ],
        [
         "Ireland",
         "20596556"
        ],
        [
         "Kerry County Council",
         "625832"
        ],
        [
         "Kildare County Council",
         "991096"
        ],
        [
         "Kilkenny County Council",
         "416640"
        ],
        [
         "Laois County Council",
         "367508"
        ],
        [
         "Leitrim County Council",
         "140796"
        ],
        [
         "Limerick City & County Council",
         "838144"
        ],
        [
         "Longford County Council",
         "187004"
        ],
        [
         "Louth County Council",
         "558812"
        ],
        [
         "Mayo  County Council",
         "551880"
        ],
        [
         "Meath County Council",
         "883304"
        ],
        [
         "Monaghan County Council",
         "261152"
        ],
        [
         "Offaly County Council",
         "332600"
        ],
        [
         "Roscommon County Council",
         "281036"
        ],
        [
         "Sligo County Council",
         "280792"
        ],
        [
         "South Dublin County Council",
         "1204300"
        ],
        [
         "Tipperary County Council",
         "671580"
        ],
        [
         "Waterford City & County Council",
         "509452"
        ],
        [
         "Westmeath County Council",
         "384884"
        ],
        [
         "Wexford County Council",
         "655676"
        ],
        [
         "Wicklow County Council",
         "623404"
        ]
       ],
       "shape": {
        "columns": 1,
        "rows": 32
       }
      },
      "text/plain": [
       "Administrative Counties\n",
       "Carlow County Council                      247872\n",
       "Cavan County Council                       326816\n",
       "Clare County Council                       511752\n",
       "Cork City Council                          896016\n",
       "Cork County Council                       1440608\n",
       "Donegal County Council                     668336\n",
       "Dublin City Council                       2370852\n",
       "Dún Laoghaire Rathdown County Council      935440\n",
       "Fingal County Council                     1322024\n",
       "Galway City Council                        337656\n",
       "Galway County Council                      773292\n",
       "Ireland                                  20596556\n",
       "Kerry County Council                       625832\n",
       "Kildare County Council                     991096\n",
       "Kilkenny County Council                    416640\n",
       "Laois County Council                       367508\n",
       "Leitrim County Council                     140796\n",
       "Limerick City & County Council             838144\n",
       "Longford County Council                    187004\n",
       "Louth County Council                       558812\n",
       "Mayo  County Council                       551880\n",
       "Meath County Council                       883304\n",
       "Monaghan County Council                    261152\n",
       "Offaly County Council                      332600\n",
       "Roscommon County Council                   281036\n",
       "Sligo County Council                       280792\n",
       "South Dublin County Council               1204300\n",
       "Tipperary County Council                   671580\n",
       "Waterford City & County Council            509452\n",
       "Westmeath County Council                   384884\n",
       "Wexford County Council                     655676\n",
       "Wicklow County Council                     623404\n",
       "Name: VALUE, dtype: int64"
      ]
     },
     "execution_count": 178,
     "metadata": {},
     "output_type": "execute_result"
    }
   ],
   "source": [
    "# Now get sum of 'Administrative Counties'\n",
    "df_raw.groupby(['Administrative Counties'],sort=True).sum()['VALUE']"
   ]
  },
  {
   "cell_type": "markdown",
   "id": "94f20ad3",
   "metadata": {},
   "source": [
    "Remove columns that are not required"
   ]
  },
  {
   "cell_type": "code",
   "execution_count": 179,
   "id": "9e167f35",
   "metadata": {},
   "outputs": [
    {
     "name": "stdout",
     "output_type": "stream",
     "text": [
      "Data Frame Columns after drop: ['Sex', 'Single Year of Age', 'Administrative Counties', 'VALUE']\n"
     ]
    },
    {
     "data": {
      "application/vnd.microsoft.datawrangler.viewer.v0+json": {
       "columns": [
        {
         "name": "index",
         "rawType": "int64",
         "type": "integer"
        },
        {
         "name": "Sex",
         "rawType": "object",
         "type": "string"
        },
        {
         "name": "Single Year of Age",
         "rawType": "object",
         "type": "string"
        },
        {
         "name": "Administrative Counties",
         "rawType": "object",
         "type": "string"
        },
        {
         "name": "VALUE",
         "rawType": "int64",
         "type": "integer"
        }
       ],
       "ref": "e9a7c191-24c4-4497-8c66-b9def88ab87f",
       "rows": [
        [
         "0",
         "Both sexes",
         "All ages",
         "Ireland",
         "5149139"
        ],
        [
         "1",
         "Both sexes",
         "All ages",
         "Carlow County Council",
         "61968"
        ],
        [
         "2",
         "Both sexes",
         "All ages",
         "Dublin City Council",
         "592713"
        ],
        [
         "3",
         "Both sexes",
         "All ages",
         "Dún Laoghaire Rathdown County Council",
         "233860"
        ],
        [
         "4",
         "Both sexes",
         "All ages",
         "Fingal County Council",
         "330506"
        ]
       ],
       "shape": {
        "columns": 4,
        "rows": 5
       }
      },
      "text/html": [
       "<div>\n",
       "<style scoped>\n",
       "    .dataframe tbody tr th:only-of-type {\n",
       "        vertical-align: middle;\n",
       "    }\n",
       "\n",
       "    .dataframe tbody tr th {\n",
       "        vertical-align: top;\n",
       "    }\n",
       "\n",
       "    .dataframe thead th {\n",
       "        text-align: right;\n",
       "    }\n",
       "</style>\n",
       "<table border=\"1\" class=\"dataframe\">\n",
       "  <thead>\n",
       "    <tr style=\"text-align: right;\">\n",
       "      <th></th>\n",
       "      <th>Sex</th>\n",
       "      <th>Single Year of Age</th>\n",
       "      <th>Administrative Counties</th>\n",
       "      <th>VALUE</th>\n",
       "    </tr>\n",
       "  </thead>\n",
       "  <tbody>\n",
       "    <tr>\n",
       "      <th>0</th>\n",
       "      <td>Both sexes</td>\n",
       "      <td>All ages</td>\n",
       "      <td>Ireland</td>\n",
       "      <td>5149139</td>\n",
       "    </tr>\n",
       "    <tr>\n",
       "      <th>1</th>\n",
       "      <td>Both sexes</td>\n",
       "      <td>All ages</td>\n",
       "      <td>Carlow County Council</td>\n",
       "      <td>61968</td>\n",
       "    </tr>\n",
       "    <tr>\n",
       "      <th>2</th>\n",
       "      <td>Both sexes</td>\n",
       "      <td>All ages</td>\n",
       "      <td>Dublin City Council</td>\n",
       "      <td>592713</td>\n",
       "    </tr>\n",
       "    <tr>\n",
       "      <th>3</th>\n",
       "      <td>Both sexes</td>\n",
       "      <td>All ages</td>\n",
       "      <td>Dún Laoghaire Rathdown County Council</td>\n",
       "      <td>233860</td>\n",
       "    </tr>\n",
       "    <tr>\n",
       "      <th>4</th>\n",
       "      <td>Both sexes</td>\n",
       "      <td>All ages</td>\n",
       "      <td>Fingal County Council</td>\n",
       "      <td>330506</td>\n",
       "    </tr>\n",
       "  </tbody>\n",
       "</table>\n",
       "</div>"
      ],
      "text/plain": [
       "          Sex Single Year of Age                Administrative Counties  \\\n",
       "0  Both sexes           All ages                                Ireland   \n",
       "1  Both sexes           All ages                  Carlow County Council   \n",
       "2  Both sexes           All ages                    Dublin City Council   \n",
       "3  Both sexes           All ages  Dún Laoghaire Rathdown County Council   \n",
       "4  Both sexes           All ages                  Fingal County Council   \n",
       "\n",
       "     VALUE  \n",
       "0  5149139  \n",
       "1    61968  \n",
       "2   592713  \n",
       "3   233860  \n",
       "4   330506  "
      ]
     },
     "execution_count": 179,
     "metadata": {},
     "output_type": "execute_result"
    }
   ],
   "source": [
    "drop_list = ['STATISTIC', 'Statistic Label', 'TLIST(A1)', 'CensusYear', 'C02199V02655',  'C02076V03371', 'C03789V04537',\n",
    "               'UNIT']\n",
    "df_raw.drop(columns=drop_list,inplace=True)\n",
    "print(\"Data Frame Columns after drop:\",df_raw.columns.to_list())\n",
    "df_raw.head()"
   ]
  },
  {
   "cell_type": "markdown",
   "id": "aa78649e",
   "metadata": {},
   "source": [
    "Now remove all counties except Ireland - the whole country and exclude Both Sexes from Sex ,and All ages from Single Year Of Age"
   ]
  },
  {
   "cell_type": "code",
   "execution_count": 180,
   "id": "b7e299cc",
   "metadata": {},
   "outputs": [
    {
     "data": {
      "application/vnd.microsoft.datawrangler.viewer.v0+json": {
       "columns": [
        {
         "name": "index",
         "rawType": "int64",
         "type": "integer"
        },
        {
         "name": "Sex",
         "rawType": "object",
         "type": "string"
        },
        {
         "name": "Single Year of Age",
         "rawType": "object",
         "type": "string"
        },
        {
         "name": "Population",
         "rawType": "int64",
         "type": "integer"
        }
       ],
       "ref": "1c4ad0ca-7438-47a2-8eaa-cb4944dc2e26",
       "rows": [
        [
         "3296",
         "Male",
         "Under 1 year",
         "29610"
        ],
        [
         "3328",
         "Male",
         "1 year",
         "28875"
        ],
        [
         "3360",
         "Male",
         "2 years",
         "30236"
        ],
        [
         "3392",
         "Male",
         "3 years",
         "31001"
        ],
        [
         "3424",
         "Male",
         "4 years",
         "31686"
        ]
       ],
       "shape": {
        "columns": 3,
        "rows": 5
       }
      },
      "text/html": [
       "<div>\n",
       "<style scoped>\n",
       "    .dataframe tbody tr th:only-of-type {\n",
       "        vertical-align: middle;\n",
       "    }\n",
       "\n",
       "    .dataframe tbody tr th {\n",
       "        vertical-align: top;\n",
       "    }\n",
       "\n",
       "    .dataframe thead th {\n",
       "        text-align: right;\n",
       "    }\n",
       "</style>\n",
       "<table border=\"1\" class=\"dataframe\">\n",
       "  <thead>\n",
       "    <tr style=\"text-align: right;\">\n",
       "      <th></th>\n",
       "      <th>Sex</th>\n",
       "      <th>Single Year of Age</th>\n",
       "      <th>Population</th>\n",
       "    </tr>\n",
       "  </thead>\n",
       "  <tbody>\n",
       "    <tr>\n",
       "      <th>3296</th>\n",
       "      <td>Male</td>\n",
       "      <td>Under 1 year</td>\n",
       "      <td>29610</td>\n",
       "    </tr>\n",
       "    <tr>\n",
       "      <th>3328</th>\n",
       "      <td>Male</td>\n",
       "      <td>1 year</td>\n",
       "      <td>28875</td>\n",
       "    </tr>\n",
       "    <tr>\n",
       "      <th>3360</th>\n",
       "      <td>Male</td>\n",
       "      <td>2 years</td>\n",
       "      <td>30236</td>\n",
       "    </tr>\n",
       "    <tr>\n",
       "      <th>3392</th>\n",
       "      <td>Male</td>\n",
       "      <td>3 years</td>\n",
       "      <td>31001</td>\n",
       "    </tr>\n",
       "    <tr>\n",
       "      <th>3424</th>\n",
       "      <td>Male</td>\n",
       "      <td>4 years</td>\n",
       "      <td>31686</td>\n",
       "    </tr>\n",
       "  </tbody>\n",
       "</table>\n",
       "</div>"
      ],
      "text/plain": [
       "       Sex Single Year of Age  Population\n",
       "3296  Male       Under 1 year       29610\n",
       "3328  Male             1 year       28875\n",
       "3360  Male            2 years       30236\n",
       "3392  Male            3 years       31001\n",
       "3424  Male            4 years       31686"
      ]
     },
     "execution_count": 180,
     "metadata": {},
     "output_type": "execute_result"
    }
   ],
   "source": [
    "# now create a data frame for analysis\n",
    "# Counts == Ireland and Sex != Both and Single Year of Age != All ages\n",
    "# Note the filtered data frame needed to be copied to avoid SettingWithCopyWarning \n",
    "# https://pandas.pydata.org/pandas-docs/stable/user_guide/indexing.html#returning-a-view-versus-a-copy\n",
    "# Looking at it from a database perspective we are creating a new table from a select statement , rather than a view\n",
    "df_population = df_raw[(df_raw['Administrative Counties']=='Ireland') & (df_raw['Sex'] != 'Both sexes') & (df_raw['Single Year of Age'] != 'All ages')].copy()\n",
    "# Also drop \"Ireland\" column as it is not needed now\n",
    "df_population.drop(columns=['Administrative Counties'],inplace=True)\n",
    "# Rename the VALUE column to Population - Prettier for analysis\n",
    "df_population.rename(columns={'VALUE':'Population'},inplace=True)\n",
    "df_population.head()"
   ]
  },
  {
   "cell_type": "markdown",
   "id": "f94da58a",
   "metadata": {},
   "source": [
    "Add another column called Year No - which is the year number . \n",
    "- Under 1 Year will be Zero"
   ]
  },
  {
   "cell_type": "code",
   "execution_count": 181,
   "id": "e436ddc9",
   "metadata": {},
   "outputs": [
    {
     "data": {
      "application/vnd.microsoft.datawrangler.viewer.v0+json": {
       "columns": [
        {
         "name": "index",
         "rawType": "int64",
         "type": "integer"
        },
        {
         "name": "Sex",
         "rawType": "object",
         "type": "string"
        },
        {
         "name": "Single Year of Age",
         "rawType": "object",
         "type": "string"
        },
        {
         "name": "Population",
         "rawType": "int64",
         "type": "integer"
        },
        {
         "name": "Year No",
         "rawType": "int64",
         "type": "integer"
        }
       ],
       "ref": "829fd6be-44dd-4bf6-bf9a-3a66a8acf704",
       "rows": [
        [
         "3296",
         "Male",
         "Under 1 year",
         "29610",
         "0"
        ],
        [
         "3328",
         "Male",
         "1 year",
         "28875",
         "1"
        ],
        [
         "3360",
         "Male",
         "2 years",
         "30236",
         "2"
        ],
        [
         "3392",
         "Male",
         "3 years",
         "31001",
         "3"
        ],
        [
         "3424",
         "Male",
         "4 years",
         "31686",
         "4"
        ]
       ],
       "shape": {
        "columns": 4,
        "rows": 5
       }
      },
      "text/html": [
       "<div>\n",
       "<style scoped>\n",
       "    .dataframe tbody tr th:only-of-type {\n",
       "        vertical-align: middle;\n",
       "    }\n",
       "\n",
       "    .dataframe tbody tr th {\n",
       "        vertical-align: top;\n",
       "    }\n",
       "\n",
       "    .dataframe thead th {\n",
       "        text-align: right;\n",
       "    }\n",
       "</style>\n",
       "<table border=\"1\" class=\"dataframe\">\n",
       "  <thead>\n",
       "    <tr style=\"text-align: right;\">\n",
       "      <th></th>\n",
       "      <th>Sex</th>\n",
       "      <th>Single Year of Age</th>\n",
       "      <th>Population</th>\n",
       "      <th>Year No</th>\n",
       "    </tr>\n",
       "  </thead>\n",
       "  <tbody>\n",
       "    <tr>\n",
       "      <th>3296</th>\n",
       "      <td>Male</td>\n",
       "      <td>Under 1 year</td>\n",
       "      <td>29610</td>\n",
       "      <td>0</td>\n",
       "    </tr>\n",
       "    <tr>\n",
       "      <th>3328</th>\n",
       "      <td>Male</td>\n",
       "      <td>1 year</td>\n",
       "      <td>28875</td>\n",
       "      <td>1</td>\n",
       "    </tr>\n",
       "    <tr>\n",
       "      <th>3360</th>\n",
       "      <td>Male</td>\n",
       "      <td>2 years</td>\n",
       "      <td>30236</td>\n",
       "      <td>2</td>\n",
       "    </tr>\n",
       "    <tr>\n",
       "      <th>3392</th>\n",
       "      <td>Male</td>\n",
       "      <td>3 years</td>\n",
       "      <td>31001</td>\n",
       "      <td>3</td>\n",
       "    </tr>\n",
       "    <tr>\n",
       "      <th>3424</th>\n",
       "      <td>Male</td>\n",
       "      <td>4 years</td>\n",
       "      <td>31686</td>\n",
       "      <td>4</td>\n",
       "    </tr>\n",
       "  </tbody>\n",
       "</table>\n",
       "</div>"
      ],
      "text/plain": [
       "       Sex Single Year of Age  Population  Year No\n",
       "3296  Male       Under 1 year       29610        0\n",
       "3328  Male             1 year       28875        1\n",
       "3360  Male            2 years       30236        2\n",
       "3392  Male            3 years       31001        3\n",
       "3424  Male            4 years       31686        4"
      ]
     },
     "execution_count": 181,
     "metadata": {},
     "output_type": "execute_result"
    }
   ],
   "source": [
    "# First replace the 'Under 1 year' with '0' as per lecture instructions\n",
    "df_population[\"Year No\"] = df_population['Single Year of Age'].replace({'Under 1 year': '0'})\n",
    "# Now extract the digit from the year number string and convert to integer\n",
    "df_population['Year No'] = df_population['Year No'].str.extract('(\\d+)',expand=False).astype(int)\n",
    "df_population.head()\n"
   ]
  },
  {
   "cell_type": "markdown",
   "id": "ca133f96",
   "metadata": {},
   "source": [
    "### Part 1.1  Calculate The \"Weighted\" Mean Per Sex\n",
    "\n",
    "There are a couple of approaches"
   ]
  },
  {
   "cell_type": "code",
   "execution_count": 182,
   "id": "ad384b22",
   "metadata": {},
   "outputs": [
    {
     "name": "stdout",
     "output_type": "stream",
     "text": [
      "Weighted Mean Age by Sex:\n",
      "Male: 37.7394477371039\n",
      "Female: 38.9397958987787\n"
     ]
    }
   ],
   "source": [
    "# Do the weighted for male first\n",
    "male_weighted_mean = np.average(df_population[df_population['Sex'] == 'Male']['Year No'], \n",
    "                                weights=df_population[df_population['Sex'] == 'Male']['Population'])\n",
    "# Do the weighted for female next\n",
    "female_weighted_mean = np.average(df_population[df_population['Sex'] == 'Female']['Year No'], \n",
    "                                  weights=df_population[df_population['Sex'] == 'Female']['Population'])\n",
    "print(\"Weighted Mean Age by Sex:\")\n",
    "print(f\"Male: {male_weighted_mean}\")\n",
    "print(f\"Female: {female_weighted_mean}\")"
   ]
  },
  {
   "cell_type": "code",
   "execution_count": 183,
   "id": "72946afd",
   "metadata": {},
   "outputs": [
    {
     "name": "stdout",
     "output_type": "stream",
     "text": [
      "Weighted Mean Age by Sex:\n",
      "Sex\n",
      "Female    38.939796\n",
      "Male      37.739448\n",
      "dtype: float64\n"
     ]
    }
   ],
   "source": [
    "# A more manual method , the np method is counter intuitive\n",
    "# explicitly work out the weighted age\n",
    "df_population['weighted_age'] = df_population['Year No'] * df_population['Population']\n",
    "# Now do the group by sum and divide\n",
    "weighted_mean_by_sex = df_population.groupby('Sex').sum()['weighted_age'] / df_population.groupby('Sex').sum()['Population']\n",
    "print(\"Weighted Mean Age by Sex:\")\n",
    "print(weighted_mean_by_sex)"
   ]
  },
  {
   "cell_type": "markdown",
   "id": "643ac291",
   "metadata": {},
   "source": [
    "\n",
    "## Part 1.2 The difference between the sexes by age\n",
    "\n",
    "The assumtion is we subtract the one sex Female from the other Male"
   ]
  },
  {
   "cell_type": "code",
   "execution_count": 184,
   "id": "79d5ef9d",
   "metadata": {},
   "outputs": [
    {
     "data": {
      "application/vnd.microsoft.datawrangler.viewer.v0+json": {
       "columns": [
        {
         "name": "index",
         "rawType": "int64",
         "type": "integer"
        },
        {
         "name": "Year No",
         "rawType": "int64",
         "type": "integer"
        },
        {
         "name": "Female",
         "rawType": "int64",
         "type": "integer"
        },
        {
         "name": "Male",
         "rawType": "int64",
         "type": "integer"
        },
        {
         "name": "Difference",
         "rawType": "int64",
         "type": "integer"
        }
       ],
       "ref": "a8416934-fbe3-4f2d-b29e-d81aa67a9860",
       "rows": [
        [
         "0",
         "0",
         "28186",
         "29610",
         "1424"
        ],
        [
         "1",
         "1",
         "27545",
         "28875",
         "1330"
        ],
        [
         "2",
         "2",
         "28974",
         "30236",
         "1262"
        ],
        [
         "3",
         "3",
         "29483",
         "31001",
         "1518"
        ],
        [
         "4",
         "4",
         "29819",
         "31686",
         "1867"
        ],
        [
         "5",
         "5",
         "31342",
         "32684",
         "1342"
        ],
        [
         "6",
         "6",
         "32622",
         "34092",
         "1470"
        ],
        [
         "7",
         "7",
         "33572",
         "35429",
         "1857"
        ],
        [
         "8",
         "8",
         "34437",
         "36296",
         "1859"
        ],
        [
         "9",
         "9",
         "35227",
         "36969",
         "1742"
        ],
        [
         "10",
         "10",
         "36066",
         "38035",
         "1969"
        ],
        [
         "11",
         "11",
         "36863",
         "38296",
         "1433"
        ],
        [
         "12",
         "12",
         "37297",
         "38957",
         "1660"
        ],
        [
         "13",
         "13",
         "36782",
         "38474",
         "1692"
        ],
        [
         "14",
         "14",
         "36080",
         "37352",
         "1272"
        ],
        [
         "15",
         "15",
         "34492",
         "35948",
         "1456"
        ],
        [
         "16",
         "16",
         "33168",
         "34646",
         "1478"
        ],
        [
         "17",
         "17",
         "33045",
         "34981",
         "1936"
        ],
        [
         "18",
         "18",
         "32852",
         "33900",
         "1048"
        ],
        [
         "19",
         "19",
         "31729",
         "32867",
         "1138"
        ],
        [
         "20",
         "20",
         "31624",
         "32120",
         "496"
        ],
        [
         "21",
         "21",
         "29890",
         "30771",
         "881"
        ],
        [
         "22",
         "22",
         "30768",
         "31450",
         "682"
        ],
        [
         "23",
         "23",
         "30051",
         "30871",
         "820"
        ],
        [
         "24",
         "24",
         "29364",
         "30234",
         "870"
        ],
        [
         "25",
         "25",
         "29294",
         "29969",
         "675"
        ],
        [
         "26",
         "26",
         "28864",
         "29376",
         "512"
        ],
        [
         "27",
         "27",
         "29528",
         "29162",
         "-366"
        ],
        [
         "28",
         "28",
         "29788",
         "28902",
         "-886"
        ],
        [
         "29",
         "29",
         "30936",
         "29989",
         "-947"
        ],
        [
         "30",
         "30",
         "32841",
         "30858",
         "-1983"
        ],
        [
         "31",
         "31",
         "33710",
         "32237",
         "-1473"
        ],
        [
         "32",
         "32",
         "34382",
         "32413",
         "-1969"
        ],
        [
         "33",
         "33",
         "34489",
         "31888",
         "-2601"
        ],
        [
         "34",
         "34",
         "36284",
         "33121",
         "-3163"
        ],
        [
         "35",
         "35",
         "37940",
         "34695",
         "-3245"
        ],
        [
         "36",
         "36",
         "39030",
         "35828",
         "-3202"
        ],
        [
         "37",
         "37",
         "39193",
         "36427",
         "-2766"
        ],
        [
         "38",
         "38",
         "40902",
         "37513",
         "-3389"
        ],
        [
         "39",
         "39",
         "42592",
         "38749",
         "-3843"
        ],
        [
         "40",
         "40",
         "43143",
         "40301",
         "-2842"
        ],
        [
         "41",
         "41",
         "43696",
         "41401",
         "-2295"
        ],
        [
         "42",
         "42",
         "43337",
         "41644",
         "-1693"
        ],
        [
         "43",
         "43",
         "41408",
         "39275",
         "-2133"
        ],
        [
         "44",
         "44",
         "39379",
         "37940",
         "-1439"
        ],
        [
         "45",
         "45",
         "38506",
         "37710",
         "-796"
        ],
        [
         "46",
         "46",
         "38127",
         "37289",
         "-838"
        ],
        [
         "47",
         "47",
         "37471",
         "37053",
         "-418"
        ],
        [
         "48",
         "48",
         "37145",
         "36472",
         "-673"
        ],
        [
         "49",
         "49",
         "37081",
         "36650",
         "-431"
        ]
       ],
       "shape": {
        "columns": 4,
        "rows": 101
       }
      },
      "text/html": [
       "<div>\n",
       "<style scoped>\n",
       "    .dataframe tbody tr th:only-of-type {\n",
       "        vertical-align: middle;\n",
       "    }\n",
       "\n",
       "    .dataframe tbody tr th {\n",
       "        vertical-align: top;\n",
       "    }\n",
       "\n",
       "    .dataframe thead th {\n",
       "        text-align: right;\n",
       "    }\n",
       "</style>\n",
       "<table border=\"1\" class=\"dataframe\">\n",
       "  <thead>\n",
       "    <tr style=\"text-align: right;\">\n",
       "      <th>Sex</th>\n",
       "      <th>Year No</th>\n",
       "      <th>Female</th>\n",
       "      <th>Male</th>\n",
       "      <th>Difference</th>\n",
       "    </tr>\n",
       "  </thead>\n",
       "  <tbody>\n",
       "    <tr>\n",
       "      <th>0</th>\n",
       "      <td>0</td>\n",
       "      <td>28186</td>\n",
       "      <td>29610</td>\n",
       "      <td>1424</td>\n",
       "    </tr>\n",
       "    <tr>\n",
       "      <th>1</th>\n",
       "      <td>1</td>\n",
       "      <td>27545</td>\n",
       "      <td>28875</td>\n",
       "      <td>1330</td>\n",
       "    </tr>\n",
       "    <tr>\n",
       "      <th>2</th>\n",
       "      <td>2</td>\n",
       "      <td>28974</td>\n",
       "      <td>30236</td>\n",
       "      <td>1262</td>\n",
       "    </tr>\n",
       "    <tr>\n",
       "      <th>3</th>\n",
       "      <td>3</td>\n",
       "      <td>29483</td>\n",
       "      <td>31001</td>\n",
       "      <td>1518</td>\n",
       "    </tr>\n",
       "    <tr>\n",
       "      <th>4</th>\n",
       "      <td>4</td>\n",
       "      <td>29819</td>\n",
       "      <td>31686</td>\n",
       "      <td>1867</td>\n",
       "    </tr>\n",
       "    <tr>\n",
       "      <th>...</th>\n",
       "      <td>...</td>\n",
       "      <td>...</td>\n",
       "      <td>...</td>\n",
       "      <td>...</td>\n",
       "    </tr>\n",
       "    <tr>\n",
       "      <th>96</th>\n",
       "      <td>96</td>\n",
       "      <td>956</td>\n",
       "      <td>327</td>\n",
       "      <td>-629</td>\n",
       "    </tr>\n",
       "    <tr>\n",
       "      <th>97</th>\n",
       "      <td>97</td>\n",
       "      <td>732</td>\n",
       "      <td>217</td>\n",
       "      <td>-515</td>\n",
       "    </tr>\n",
       "    <tr>\n",
       "      <th>98</th>\n",
       "      <td>98</td>\n",
       "      <td>492</td>\n",
       "      <td>130</td>\n",
       "      <td>-362</td>\n",
       "    </tr>\n",
       "    <tr>\n",
       "      <th>99</th>\n",
       "      <td>99</td>\n",
       "      <td>336</td>\n",
       "      <td>105</td>\n",
       "      <td>-231</td>\n",
       "    </tr>\n",
       "    <tr>\n",
       "      <th>100</th>\n",
       "      <td>100</td>\n",
       "      <td>584</td>\n",
       "      <td>154</td>\n",
       "      <td>-430</td>\n",
       "    </tr>\n",
       "  </tbody>\n",
       "</table>\n",
       "<p>101 rows × 4 columns</p>\n",
       "</div>"
      ],
      "text/plain": [
       "Sex  Year No  Female   Male  Difference\n",
       "0          0   28186  29610        1424\n",
       "1          1   27545  28875        1330\n",
       "2          2   28974  30236        1262\n",
       "3          3   29483  31001        1518\n",
       "4          4   29819  31686        1867\n",
       "..       ...     ...    ...         ...\n",
       "96        96     956    327        -629\n",
       "97        97     732    217        -515\n",
       "98        98     492    130        -362\n",
       "99        99     336    105        -231\n",
       "100      100     584    154        -430\n",
       "\n",
       "[101 rows x 4 columns]"
      ]
     },
     "execution_count": 184,
     "metadata": {},
     "output_type": "execute_result"
    }
   ],
   "source": [
    "# Pivot data on sex so that we have year no , and population for both male and female\n",
    "df_population_sex_pivot = df_population.pivot(index='Year No', columns='Sex', values='Population').reset_index()\n",
    "# create a extra column for difference\n",
    "df_population_sex_pivot['Difference'] = df_population_sex_pivot['Male'] - df_population_sex_pivot['Female']\n",
    "df_population_sex_pivot"
   ]
  },
  {
   "cell_type": "markdown",
   "id": "8da8064f",
   "metadata": {},
   "source": [
    "__Plot a graph with the difference__"
   ]
  },
  {
   "cell_type": "code",
   "execution_count": 185,
   "id": "ab355d4b",
   "metadata": {},
   "outputs": [
    {
     "data": {
      "image/png": "[encoded data removed]",
      "text/plain": [
       "<Figure size 1200x600 with 2 Axes>"
      ]
     },
     "metadata": {},
     "output_type": "display_data"
    }
   ],
   "source": [
    "fig, ax = plt.subplots(1, 2, figsize=(12, 6))\n",
    "# Plot the populations\n",
    "sns.lineplot(data=df_population_sex_pivot, x='Year No', y='Male', ax=ax[0], label='Male', color='blue')\n",
    "sns.lineplot(data=df_population_sex_pivot, x='Year No', y='Female', ax=ax[0], label='Female', color='pink')\n",
    "ax[0].set_title('Population by Age and Sex')\n",
    "\n",
    "# Plot the difference\n",
    "sns.lineplot(data=df_population_sex_pivot, x='Year No', y='Difference', ax=ax[1], color='green')\n",
    "# plot the positive numbers blue negative pink\n",
    "ax[1].fill_between(df_population_sex_pivot['Year No'], df_population_sex_pivot['Difference'], where=(df_population_sex_pivot['Difference'] > 0), color='blue', alpha=0.5)\n",
    "ax[1].fill_between(df_population_sex_pivot['Year No'], df_population_sex_pivot['Difference'], where=(df_population_sex_pivot['Difference'] < 0), color='pink', alpha=0.5)\n",
    "ax[1].set_title('Population Difference (Male - Female) by Age')\n",
    "plt.tight_layout()\n",
    "plt.show()"
   ]
  },
  {
   "cell_type": "markdown",
   "id": "be828a76",
   "metadata": {},
   "source": [
    "\n",
    "## Part 2: Ten Year Window\n",
    "### Part 2 20%\n",
    "In the same notebook, make a variable that stores an age (say 35).\n",
    "\n",
    "Write that code that would group the people within 5 years of that age together, into one age group \n",
    "\n",
    "Calculate the population difference between the sexes in that age group.\n",
    "\n",
    "In the example , for an age 35 the range starts from 31 ( 35-4 ) and ( 35 + 4) 39 . The 35 year is included in both directions , thus it spans 9 years.  The window will be reduces if there are no ages below or above the range , example 100 will be 100-4 to 100. , and 0 will be 0 to 0 + 4.\n",
    "\n",
    "Using the following function to do the calculation , this is equivalent to a ordered analytic function in SQL\n",
    "The following has a window - the range , and if the range is centered . As well as min_periods which allows for partial windows.\n",
    "\n",
    "An alternative is to use a cyclic window , that is use a window which wraps around from 0 to 100 in a cyclic manner "
   ]
  },
  {
   "cell_type": "code",
   "execution_count": 186,
   "id": "779347e9",
   "metadata": {},
   "outputs": [
    {
     "data": {
      "application/vnd.microsoft.datawrangler.viewer.v0+json": {
       "columns": [
        {
         "name": "index",
         "rawType": "int64",
         "type": "integer"
        },
        {
         "name": "Male",
         "rawType": "float64",
         "type": "float"
        },
        {
         "name": "Female",
         "rawType": "float64",
         "type": "float"
        },
        {
         "name": "One",
         "rawType": "float64",
         "type": "float"
        },
        {
         "name": "Increasing Age Group",
         "rawType": "float64",
         "type": "float"
        },
        {
         "name": "Difference",
         "rawType": "float64",
         "type": "float"
        }
       ],
       "ref": "736dd4c1-6144-43ee-adf0-ed9beb9b3a6f",
       "rows": [
        [
         "0",
         "151408.0",
         "144007.0",
         "5.0",
         "15.0",
         "7401.0"
        ],
        [
         "1",
         "184092.0",
         "175349.0",
         "6.0",
         "21.0",
         "8743.0"
        ],
        [
         "2",
         "218184.0",
         "207971.0",
         "7.0",
         "28.0",
         "10213.0"
        ],
        [
         "3",
         "253613.0",
         "241543.0",
         "8.0",
         "36.0",
         "12070.0"
        ],
        [
         "4",
         "289909.0",
         "275980.0",
         "9.0",
         "45.0",
         "13929.0"
        ],
        [
         "5",
         "297268.0",
         "283021.0",
         "9.0",
         "54.0",
         "14247.0"
        ],
        [
         "6",
         "306428.0",
         "291542.0",
         "9.0",
         "63.0",
         "14886.0"
        ],
        [
         "7",
         "314488.0",
         "299431.0",
         "9.0",
         "72.0",
         "15057.0"
        ],
        [
         "8",
         "322444.0",
         "307245.0",
         "9.0",
         "81.0",
         "15199.0"
        ],
        [
         "9",
         "329232.0",
         "314208.0",
         "9.0",
         "90.0",
         "15024.0"
        ],
        [
         "10",
         "333900.0",
         "318946.0",
         "9.0",
         "99.0",
         "14954.0"
        ],
        [
         "11",
         "335756.0",
         "320816.0",
         "9.0",
         "108.0",
         "14940.0"
        ],
        [
         "12",
         "334973.0",
         "320412.0",
         "9.0",
         "117.0",
         "14561.0"
        ],
        [
         "13",
         "333658.0",
         "319020.0",
         "9.0",
         "126.0",
         "14638.0"
        ],
        [
         "14",
         "330589.0",
         "316645.0",
         "9.0",
         "135.0",
         "13944.0"
        ],
        [
         "15",
         "325421.0",
         "312308.0",
         "9.0",
         "144.0",
         "13113.0"
        ],
        [
         "16",
         "319245.0",
         "307069.0",
         "9.0",
         "153.0",
         "12176.0"
        ],
        [
         "17",
         "311059.0",
         "299662.0",
         "9.0",
         "162.0",
         "11397.0"
        ],
        [
         "18",
         "304035.0",
         "293648.0",
         "9.0",
         "171.0",
         "10387.0"
        ],
        [
         "19",
         "297554.0",
         "287619.0",
         "9.0",
         "180.0",
         "9935.0"
        ],
        [
         "20",
         "291840.0",
         "282491.0",
         "9.0",
         "189.0",
         "9349.0"
        ],
        [
         "21",
         "287163.0",
         "278617.0",
         "9.0",
         "198.0",
         "8546.0"
        ],
        [
         "22",
         "281558.0",
         "274436.0",
         "9.0",
         "207.0",
         "7122.0"
        ],
        [
         "23",
         "276820.0",
         "271112.0",
         "9.0",
         "216.0",
         "5708.0"
        ],
        [
         "24",
         "272855.0",
         "269171.0",
         "9.0",
         "225.0",
         "3684.0"
        ],
        [
         "25",
         "270724.0",
         "268483.0",
         "9.0",
         "234.0",
         "2241.0"
        ],
        [
         "26",
         "270811.0",
         "271434.0",
         "9.0",
         "243.0",
         "-623.0"
        ],
        [
         "27",
         "271598.0",
         "274376.0",
         "9.0",
         "252.0",
         "-2778.0"
        ],
        [
         "28",
         "273140.0",
         "278707.0",
         "9.0",
         "261.0",
         "-5567.0"
        ],
        [
         "29",
         "274794.0",
         "283832.0",
         "9.0",
         "270.0",
         "-9038.0"
        ],
        [
         "30",
         "277946.0",
         "290822.0",
         "9.0",
         "279.0",
         "-12876.0"
        ],
        [
         "31",
         "283265.0",
         "299898.0",
         "9.0",
         "288.0",
         "-16633.0"
        ],
        [
         "32",
         "289931.0",
         "309400.0",
         "9.0",
         "297.0",
         "-19469.0"
        ],
        [
         "33",
         "297456.0",
         "318805.0",
         "9.0",
         "306.0",
         "-21349.0"
        ],
        [
         "34",
         "304980.0",
         "328771.0",
         "9.0",
         "315.0",
         "-23791.0"
        ],
        [
         "35",
         "312871.0",
         "338522.0",
         "9.0",
         "324.0",
         "-25651.0"
        ],
        [
         "36",
         "320935.0",
         "347955.0",
         "9.0",
         "333.0",
         "-27020.0"
        ],
        [
         "37",
         "329923.0",
         "357269.0",
         "9.0",
         "342.0",
         "-27346.0"
        ],
        [
         "38",
         "339679.0",
         "366117.0",
         "9.0",
         "351.0",
         "-26438.0"
        ],
        [
         "39",
         "345833.0",
         "371241.0",
         "9.0",
         "360.0",
         "-25408.0"
        ],
        [
         "40",
         "349078.0",
         "372680.0",
         "9.0",
         "369.0",
         "-23602.0"
        ],
        [
         "41",
         "350960.0",
         "372156.0",
         "9.0",
         "378.0",
         "-21196.0"
        ],
        [
         "42",
         "351822.0",
         "371090.0",
         "9.0",
         "387.0",
         "-19268.0"
        ],
        [
         "43",
         "351362.0",
         "367659.0",
         "9.0",
         "396.0",
         "-16297.0"
        ],
        [
         "44",
         "349085.0",
         "362212.0",
         "9.0",
         "405.0",
         "-13127.0"
        ],
        [
         "45",
         "345434.0",
         "356150.0",
         "9.0",
         "414.0",
         "-10716.0"
        ],
        [
         "46",
         "340083.0",
         "348653.0",
         "9.0",
         "423.0",
         "-8570.0"
        ],
        [
         "47",
         "333365.0",
         "340341.0",
         "9.0",
         "432.0",
         "-6976.0"
        ],
        [
         "48",
         "328446.0",
         "333347.0",
         "9.0",
         "441.0",
         "-4901.0"
        ],
        [
         "49",
         "323117.0",
         "326172.0",
         "9.0",
         "450.0",
         "-3055.0"
        ]
       ],
       "shape": {
        "columns": 5,
        "rows": 101
       }
      },
      "text/html": [
       "<div>\n",
       "<style scoped>\n",
       "    .dataframe tbody tr th:only-of-type {\n",
       "        vertical-align: middle;\n",
       "    }\n",
       "\n",
       "    .dataframe tbody tr th {\n",
       "        vertical-align: top;\n",
       "    }\n",
       "\n",
       "    .dataframe thead th {\n",
       "        text-align: right;\n",
       "    }\n",
       "</style>\n",
       "<table border=\"1\" class=\"dataframe\">\n",
       "  <thead>\n",
       "    <tr style=\"text-align: right;\">\n",
       "      <th>Sex</th>\n",
       "      <th>Male</th>\n",
       "      <th>Female</th>\n",
       "      <th>One</th>\n",
       "      <th>Increasing Age Group</th>\n",
       "      <th>Difference</th>\n",
       "    </tr>\n",
       "  </thead>\n",
       "  <tbody>\n",
       "    <tr>\n",
       "      <th>0</th>\n",
       "      <td>151408.0</td>\n",
       "      <td>144007.0</td>\n",
       "      <td>5.0</td>\n",
       "      <td>15.0</td>\n",
       "      <td>7401.0</td>\n",
       "    </tr>\n",
       "    <tr>\n",
       "      <th>1</th>\n",
       "      <td>184092.0</td>\n",
       "      <td>175349.0</td>\n",
       "      <td>6.0</td>\n",
       "      <td>21.0</td>\n",
       "      <td>8743.0</td>\n",
       "    </tr>\n",
       "    <tr>\n",
       "      <th>2</th>\n",
       "      <td>218184.0</td>\n",
       "      <td>207971.0</td>\n",
       "      <td>7.0</td>\n",
       "      <td>28.0</td>\n",
       "      <td>10213.0</td>\n",
       "    </tr>\n",
       "    <tr>\n",
       "      <th>3</th>\n",
       "      <td>253613.0</td>\n",
       "      <td>241543.0</td>\n",
       "      <td>8.0</td>\n",
       "      <td>36.0</td>\n",
       "      <td>12070.0</td>\n",
       "    </tr>\n",
       "    <tr>\n",
       "      <th>4</th>\n",
       "      <td>289909.0</td>\n",
       "      <td>275980.0</td>\n",
       "      <td>9.0</td>\n",
       "      <td>45.0</td>\n",
       "      <td>13929.0</td>\n",
       "    </tr>\n",
       "    <tr>\n",
       "      <th>...</th>\n",
       "      <td>...</td>\n",
       "      <td>...</td>\n",
       "      <td>...</td>\n",
       "      <td>...</td>\n",
       "      <td>...</td>\n",
       "    </tr>\n",
       "    <tr>\n",
       "      <th>96</th>\n",
       "      <td>4367.0</td>\n",
       "      <td>11310.0</td>\n",
       "      <td>9.0</td>\n",
       "      <td>873.0</td>\n",
       "      <td>-6943.0</td>\n",
       "    </tr>\n",
       "    <tr>\n",
       "      <th>97</th>\n",
       "      <td>3070.0</td>\n",
       "      <td>8501.0</td>\n",
       "      <td>8.0</td>\n",
       "      <td>780.0</td>\n",
       "      <td>-5431.0</td>\n",
       "    </tr>\n",
       "    <tr>\n",
       "      <th>98</th>\n",
       "      <td>2133.0</td>\n",
       "      <td>6181.0</td>\n",
       "      <td>7.0</td>\n",
       "      <td>686.0</td>\n",
       "      <td>-4048.0</td>\n",
       "    </tr>\n",
       "    <tr>\n",
       "      <th>99</th>\n",
       "      <td>1415.0</td>\n",
       "      <td>4444.0</td>\n",
       "      <td>6.0</td>\n",
       "      <td>591.0</td>\n",
       "      <td>-3029.0</td>\n",
       "    </tr>\n",
       "    <tr>\n",
       "      <th>100</th>\n",
       "      <td>933.0</td>\n",
       "      <td>3100.0</td>\n",
       "      <td>5.0</td>\n",
       "      <td>495.0</td>\n",
       "      <td>-2167.0</td>\n",
       "    </tr>\n",
       "  </tbody>\n",
       "</table>\n",
       "<p>101 rows × 5 columns</p>\n",
       "</div>"
      ],
      "text/plain": [
       "Sex      Male    Female  One  Increasing Age Group  Difference\n",
       "0    151408.0  144007.0  5.0                  15.0      7401.0\n",
       "1    184092.0  175349.0  6.0                  21.0      8743.0\n",
       "2    218184.0  207971.0  7.0                  28.0     10213.0\n",
       "3    253613.0  241543.0  8.0                  36.0     12070.0\n",
       "4    289909.0  275980.0  9.0                  45.0     13929.0\n",
       "..        ...       ...  ...                   ...         ...\n",
       "96     4367.0   11310.0  9.0                 873.0     -6943.0\n",
       "97     3070.0    8501.0  8.0                 780.0     -5431.0\n",
       "98     2133.0    6181.0  7.0                 686.0     -4048.0\n",
       "99     1415.0    4444.0  6.0                 591.0     -3029.0\n",
       "100     933.0    3100.0  5.0                 495.0     -2167.0\n",
       "\n",
       "[101 rows x 5 columns]"
      ]
     },
     "execution_count": 186,
     "metadata": {},
     "output_type": "execute_result"
    }
   ],
   "source": [
    "# Some ytest metrics to validate the rolling window\n",
    "df_population_sex_pivot['One']=1\n",
    "df_population_sex_pivot['Increasing Age Group'] = df_population_sex_pivot.index + 1\n",
    "df_population_sex_pivot_following = df_population_sex_pivot[['Male', 'Female','One','Increasing Age Group']].rolling(window=9, center=True, min_periods=0).sum()\n",
    "df_population_sex_pivot_following['Difference'] = df_population_sex_pivot_following['Male'] - df_population_sex_pivot_following['Female']\n",
    "df_population_sex_pivot_following"
   ]
  },
  {
   "cell_type": "markdown",
   "id": "0dfc755a",
   "metadata": {},
   "source": [
    "To get the N year , the Nth record is retrieved from the data frame"
   ]
  },
  {
   "cell_type": "code",
   "execution_count": 187,
   "id": "05f30420",
   "metadata": {},
   "outputs": [
    {
     "name": "stdout",
     "output_type": "stream",
     "text": [
      "Population difference in 9 year window centered on age 35:\n",
      "                                             Male: 312871.0\n",
      "                                             Female: 338522.0\n",
      "                                             Difference: -25651.0\n"
     ]
    }
   ],
   "source": [
    "# The Nth year record\n",
    "Nth_year = 35\n",
    "# Calculate the population difference in the 9 year window centered on Nth_year\n",
    "print(f\"Population difference in 9 year window centered on age {Nth_year}:\")\n",
    "print(f\"                                             Male: {df_population_sex_pivot_following.loc[Nth_year, 'Male']}\")\n",
    "print(f\"                                             Female: {df_population_sex_pivot_following.loc[Nth_year, 'Female']}\")\n",
    "print(f\"                                             Difference: {df_population_sex_pivot_following.loc[Nth_year, 'Difference']}\")  "
   ]
  },
  {
   "cell_type": "markdown",
   "id": "fa1d54a8",
   "metadata": {},
   "source": [
    "### Part 3 10%\n",
    "In the same notebook.\n",
    "\n",
    "Write the code that would work out which region in Ireland has the biggest population difference between the sexes in that age group\n",
    "\n",
    "Last modified: Thursday, 23 October 2025, 3:30 PM\n"
   ]
  },
  {
   "cell_type": "code",
   "execution_count": null,
   "id": "4ef70a67",
   "metadata": {},
   "outputs": [
    {
     "data": {
      "application/vnd.microsoft.datawrangler.viewer.v0+json": {
       "columns": [
        {
         "name": "index",
         "rawType": "int64",
         "type": "integer"
        },
        {
         "name": "Sex",
         "rawType": "object",
         "type": "string"
        },
        {
         "name": "Single Year of Age",
         "rawType": "object",
         "type": "string"
        },
        {
         "name": "Administrative Counties",
         "rawType": "object",
         "type": "string"
        },
        {
         "name": "VALUE",
         "rawType": "int64",
         "type": "integer"
        }
       ],
       "ref": "57025325-32db-4b7d-85a6-bb6b1f19b4b0",
       "rows": [
        [
         "0",
         "Both sexes",
         "All ages",
         "Ireland",
         "5149139"
        ],
        [
         "1",
         "Both sexes",
         "All ages",
         "Carlow County Council",
         "61968"
        ],
        [
         "2",
         "Both sexes",
         "All ages",
         "Dublin City Council",
         "592713"
        ],
        [
         "3",
         "Both sexes",
         "All ages",
         "Dún Laoghaire Rathdown County Council",
         "233860"
        ],
        [
         "4",
         "Both sexes",
         "All ages",
         "Fingal County Council",
         "330506"
        ],
        [
         "5",
         "Both sexes",
         "All ages",
         "South Dublin County Council",
         "301075"
        ],
        [
         "6",
         "Both sexes",
         "All ages",
         "Kildare County Council",
         "247774"
        ],
        [
         "7",
         "Both sexes",
         "All ages",
         "Kilkenny County Council",
         "104160"
        ],
        [
         "8",
         "Both sexes",
         "All ages",
         "Laois County Council",
         "91877"
        ],
        [
         "9",
         "Both sexes",
         "All ages",
         "Longford County Council",
         "46751"
        ],
        [
         "10",
         "Both sexes",
         "All ages",
         "Louth County Council",
         "139703"
        ],
        [
         "11",
         "Both sexes",
         "All ages",
         "Meath County Council",
         "220826"
        ],
        [
         "12",
         "Both sexes",
         "All ages",
         "Offaly County Council",
         "83150"
        ],
        [
         "13",
         "Both sexes",
         "All ages",
         "Westmeath County Council",
         "96221"
        ],
        [
         "14",
         "Both sexes",
         "All ages",
         "Wexford County Council",
         "163919"
        ],
        [
         "15",
         "Both sexes",
         "All ages",
         "Wicklow County Council",
         "155851"
        ],
        [
         "16",
         "Both sexes",
         "All ages",
         "Clare County Council",
         "127938"
        ],
        [
         "17",
         "Both sexes",
         "All ages",
         "Cork City Council",
         "224004"
        ],
        [
         "18",
         "Both sexes",
         "All ages",
         "Cork County Council",
         "360152"
        ],
        [
         "19",
         "Both sexes",
         "All ages",
         "Kerry County Council",
         "156458"
        ],
        [
         "20",
         "Both sexes",
         "All ages",
         "Limerick City & County Council",
         "209536"
        ],
        [
         "21",
         "Both sexes",
         "All ages",
         "Tipperary County Council",
         "167895"
        ],
        [
         "22",
         "Both sexes",
         "All ages",
         "Waterford City & County Council",
         "127363"
        ],
        [
         "23",
         "Both sexes",
         "All ages",
         "Galway City Council",
         "84414"
        ],
        [
         "24",
         "Both sexes",
         "All ages",
         "Galway County Council",
         "193323"
        ],
        [
         "25",
         "Both sexes",
         "All ages",
         "Leitrim County Council",
         "35199"
        ],
        [
         "26",
         "Both sexes",
         "All ages",
         "Mayo  County Council",
         "137970"
        ],
        [
         "27",
         "Both sexes",
         "All ages",
         "Roscommon County Council",
         "70259"
        ],
        [
         "28",
         "Both sexes",
         "All ages",
         "Sligo County Council",
         "70198"
        ],
        [
         "29",
         "Both sexes",
         "All ages",
         "Cavan County Council",
         "81704"
        ],
        [
         "30",
         "Both sexes",
         "All ages",
         "Donegal County Council",
         "167084"
        ],
        [
         "31",
         "Both sexes",
         "All ages",
         "Monaghan County Council",
         "65288"
        ],
        [
         "32",
         "Both sexes",
         "Under 1 year",
         "Ireland",
         "57796"
        ],
        [
         "33",
         "Both sexes",
         "Under 1 year",
         "Carlow County Council",
         "699"
        ],
        [
         "34",
         "Both sexes",
         "Under 1 year",
         "Dublin City Council",
         "6213"
        ],
        [
         "35",
         "Both sexes",
         "Under 1 year",
         "Dún Laoghaire Rathdown County Council",
         "2457"
        ],
        [
         "36",
         "Both sexes",
         "Under 1 year",
         "Fingal County Council",
         "4009"
        ],
        [
         "37",
         "Both sexes",
         "Under 1 year",
         "South Dublin County Council",
         "3544"
        ],
        [
         "38",
         "Both sexes",
         "Under 1 year",
         "Kildare County Council",
         "3005"
        ],
        [
         "39",
         "Both sexes",
         "Under 1 year",
         "Kilkenny County Council",
         "1123"
        ],
        [
         "40",
         "Both sexes",
         "Under 1 year",
         "Laois County Council",
         "1100"
        ],
        [
         "41",
         "Both sexes",
         "Under 1 year",
         "Longford County Council",
         "527"
        ],
        [
         "42",
         "Both sexes",
         "Under 1 year",
         "Louth County Council",
         "1700"
        ],
        [
         "43",
         "Both sexes",
         "Under 1 year",
         "Meath County Council",
         "2774"
        ],
        [
         "44",
         "Both sexes",
         "Under 1 year",
         "Offaly County Council",
         "935"
        ],
        [
         "45",
         "Both sexes",
         "Under 1 year",
         "Westmeath County Council",
         "1129"
        ],
        [
         "46",
         "Both sexes",
         "Under 1 year",
         "Wexford County Council",
         "1792"
        ],
        [
         "47",
         "Both sexes",
         "Under 1 year",
         "Wicklow County Council",
         "1710"
        ],
        [
         "48",
         "Both sexes",
         "Under 1 year",
         "Clare County Council",
         "1377"
        ],
        [
         "49",
         "Both sexes",
         "Under 1 year",
         "Cork City Council",
         "2283"
        ]
       ],
       "shape": {
        "columns": 4,
        "rows": 9792
       }
      },
      "text/html": [
       "<div>\n",
       "<style scoped>\n",
       "    .dataframe tbody tr th:only-of-type {\n",
       "        vertical-align: middle;\n",
       "    }\n",
       "\n",
       "    .dataframe tbody tr th {\n",
       "        vertical-align: top;\n",
       "    }\n",
       "\n",
       "    .dataframe thead th {\n",
       "        text-align: right;\n",
       "    }\n",
       "</style>\n",
       "<table border=\"1\" class=\"dataframe\">\n",
       "  <thead>\n",
       "    <tr style=\"text-align: right;\">\n",
       "      <th></th>\n",
       "      <th>Sex</th>\n",
       "      <th>Single Year of Age</th>\n",
       "      <th>Administrative Counties</th>\n",
       "      <th>VALUE</th>\n",
       "    </tr>\n",
       "  </thead>\n",
       "  <tbody>\n",
       "    <tr>\n",
       "      <th>0</th>\n",
       "      <td>Both sexes</td>\n",
       "      <td>All ages</td>\n",
       "      <td>Ireland</td>\n",
       "      <td>5149139</td>\n",
       "    </tr>\n",
       "    <tr>\n",
       "      <th>1</th>\n",
       "      <td>Both sexes</td>\n",
       "      <td>All ages</td>\n",
       "      <td>Carlow County Council</td>\n",
       "      <td>61968</td>\n",
       "    </tr>\n",
       "    <tr>\n",
       "      <th>2</th>\n",
       "      <td>Both sexes</td>\n",
       "      <td>All ages</td>\n",
       "      <td>Dublin City Council</td>\n",
       "      <td>592713</td>\n",
       "    </tr>\n",
       "    <tr>\n",
       "      <th>3</th>\n",
       "      <td>Both sexes</td>\n",
       "      <td>All ages</td>\n",
       "      <td>Dún Laoghaire Rathdown County Council</td>\n",
       "      <td>233860</td>\n",
       "    </tr>\n",
       "    <tr>\n",
       "      <th>4</th>\n",
       "      <td>Both sexes</td>\n",
       "      <td>All ages</td>\n",
       "      <td>Fingal County Council</td>\n",
       "      <td>330506</td>\n",
       "    </tr>\n",
       "    <tr>\n",
       "      <th>...</th>\n",
       "      <td>...</td>\n",
       "      <td>...</td>\n",
       "      <td>...</td>\n",
       "      <td>...</td>\n",
       "    </tr>\n",
       "    <tr>\n",
       "      <th>9787</th>\n",
       "      <td>Female</td>\n",
       "      <td>100 years and over</td>\n",
       "      <td>Roscommon County Council</td>\n",
       "      <td>7</td>\n",
       "    </tr>\n",
       "    <tr>\n",
       "      <th>9788</th>\n",
       "      <td>Female</td>\n",
       "      <td>100 years and over</td>\n",
       "      <td>Sligo County Council</td>\n",
       "      <td>9</td>\n",
       "    </tr>\n",
       "    <tr>\n",
       "      <th>9789</th>\n",
       "      <td>Female</td>\n",
       "      <td>100 years and over</td>\n",
       "      <td>Cavan County Council</td>\n",
       "      <td>12</td>\n",
       "    </tr>\n",
       "    <tr>\n",
       "      <th>9790</th>\n",
       "      <td>Female</td>\n",
       "      <td>100 years and over</td>\n",
       "      <td>Donegal County Council</td>\n",
       "      <td>31</td>\n",
       "    </tr>\n",
       "    <tr>\n",
       "      <th>9791</th>\n",
       "      <td>Female</td>\n",
       "      <td>100 years and over</td>\n",
       "      <td>Monaghan County Council</td>\n",
       "      <td>7</td>\n",
       "    </tr>\n",
       "  </tbody>\n",
       "</table>\n",
       "<p>9792 rows × 4 columns</p>\n",
       "</div>"
      ],
      "text/plain": [
       "             Sex  Single Year of Age                Administrative Counties  \\\n",
       "0     Both sexes            All ages                                Ireland   \n",
       "1     Both sexes            All ages                  Carlow County Council   \n",
       "2     Both sexes            All ages                    Dublin City Council   \n",
       "3     Both sexes            All ages  Dún Laoghaire Rathdown County Council   \n",
       "4     Both sexes            All ages                  Fingal County Council   \n",
       "...          ...                 ...                                    ...   \n",
       "9787      Female  100 years and over               Roscommon County Council   \n",
       "9788      Female  100 years and over                   Sligo County Council   \n",
       "9789      Female  100 years and over                   Cavan County Council   \n",
       "9790      Female  100 years and over                 Donegal County Council   \n",
       "9791      Female  100 years and over                Monaghan County Council   \n",
       "\n",
       "        VALUE  \n",
       "0     5149139  \n",
       "1       61968  \n",
       "2      592713  \n",
       "3      233860  \n",
       "4      330506  \n",
       "...       ...  \n",
       "9787        7  \n",
       "9788        9  \n",
       "9789       12  \n",
       "9790       31  \n",
       "9791        7  \n",
       "\n",
       "[9792 rows x 4 columns]"
      ]
     },
     "execution_count": 188,
     "metadata": {},
     "output_type": "execute_result"
    }
   ],
   "source": [
    "df_raw"
   ]
  }
 ],
 "metadata": {
  "kernelspec": {
   "display_name": "base",
   "language": "python",
   "name": "python3"
  },
  "language_info": {
   "codemirror_mode": {
    "name": "ipython",
    "version": 3
   },
   "file_extension": ".py",
   "mimetype": "text/x-python",
   "name": "python",
   "nbconvert_exporter": "python",
   "pygments_lexer": "ipython3",
   "version": "3.12.11"
  }
 },
 "nbformat": 4,
 "nbformat_minor": 5
}
