{
 "cells": [
  {
   "cell_type": "markdown",
   "id": "407b7cc2",
   "metadata": {},
   "source": [
    "# Assignment 3\n",
    "\n"
   ]
  },
  {
   "cell_type": "markdown",
   "id": "621c29b3",
   "metadata": {},
   "source": [
    "Create a notebook called assignment03-pie.ipynb\n",
    "\n",
    "The note book should have a nice pie chart of peoples email domains in the csv file at the url\n",
    "\n",
    "https://drive.google.com/uc?id=1AWPf-pJodJKeHsARQK_RHiNsE8fjPCVK&export=download\n",
    "\n",
    "This csv file has 1000 people. You may download the data or link to it.\n",
    "\n",
    "Marks will be given for:\n",
    "\n",
    "Just creating the pie chart\n",
    "Making it look nice\n",
    "As always your code should be well laid out.\n",
    "\n",
    "If you are having difficulties, know I will be doing more on Pie charts later in this module."
   ]
  },
  {
   "cell_type": "markdown",
   "id": "5d97fa5f",
   "metadata": {},
   "source": [
    "## Import Modules"
   ]
  },
  {
   "cell_type": "code",
   "execution_count": 32,
   "id": "197ed956",
   "metadata": {},
   "outputs": [],
   "source": [
    "import pandas as pd\n",
    "# Librarys basic plotting capabilities\n",
    "import matplotlib.pyplot as plt\n"
   ]
  },
  {
   "cell_type": "markdown",
   "id": "cb727c34",
   "metadata": {},
   "source": [
    "## Load data \n",
    "\n",
    "Load the data into a panda dataframe from google drive and does some data exploration"
   ]
  },
  {
   "cell_type": "code",
   "execution_count": 13,
   "id": "f0ea176e",
   "metadata": {},
   "outputs": [
    {
     "name": "stdout",
     "output_type": "stream",
     "text": [
      "Url : https://drive.google.com/uc?id=1AWPf-pJodJKeHsARQK_RHiNsE8fjPCVK&export=download\n",
      "Dataframe shape : (1000, 9)\n",
      "<class 'pandas.core.frame.DataFrame'>\n",
      "RangeIndex: 1000 entries, 0 to 999\n",
      "Data columns (total 9 columns):\n",
      " #   Column         Non-Null Count  Dtype \n",
      "---  ------         --------------  ----- \n",
      " 0   Index          1000 non-null   int64 \n",
      " 1   User Id        1000 non-null   object\n",
      " 2   First Name     1000 non-null   object\n",
      " 3   Last Name      1000 non-null   object\n",
      " 4   Sex            1000 non-null   object\n",
      " 5   Email          1000 non-null   object\n",
      " 6   Phone          1000 non-null   object\n",
      " 7   Date of birth  1000 non-null   object\n",
      " 8   Job Title      1000 non-null   object\n",
      "dtypes: int64(1), object(8)\n",
      "memory usage: 70.4+ KB\n",
      "Info            : None\n",
      "Columns         : Index(['Index', 'User Id', 'First Name', 'Last Name', 'Sex', 'Email', 'Phone',\n",
      "       'Date of birth', 'Job Title'],\n",
      "      dtype='object')\n"
     ]
    },
    {
     "data": {
      "application/vnd.microsoft.datawrangler.viewer.v0+json": {
       "columns": [
        {
         "name": "index",
         "rawType": "int64",
         "type": "integer"
        },
        {
         "name": "Index",
         "rawType": "int64",
         "type": "integer"
        },
        {
         "name": "User Id",
         "rawType": "object",
         "type": "string"
        },
        {
         "name": "First Name",
         "rawType": "object",
         "type": "string"
        },
        {
         "name": "Last Name",
         "rawType": "object",
         "type": "string"
        },
        {
         "name": "Sex",
         "rawType": "object",
         "type": "string"
        },
        {
         "name": "Email",
         "rawType": "object",
         "type": "string"
        },
        {
         "name": "Phone",
         "rawType": "object",
         "type": "string"
        },
        {
         "name": "Date of birth",
         "rawType": "object",
         "type": "string"
        },
        {
         "name": "Job Title",
         "rawType": "object",
         "type": "string"
        }
       ],
       "ref": "790a0ddb-f44a-4b31-b721-40f21f7c7142",
       "rows": [
        [
         "0",
         "1",
         "8717bbf45cCDbEe",
         "Shelia",
         "Mahoney",
         "Male",
         "pwarner@example.org",
         "857.139.8239",
         "2014-01-27",
         "Probation officer"
        ],
        [
         "1",
         "2",
         "3d5AD30A4cD38ed",
         "Jo",
         "Rivers",
         "Female",
         "fergusonkatherine@example.net",
         "+1-950-759-8687",
         "1931-07-26",
         "Dancer"
        ],
        [
         "2",
         "3",
         "810Ce0F276Badec",
         "Sheryl",
         "Lowery",
         "Female",
         "fhoward@example.org",
         "(599)782-0605",
         "2013-11-25",
         "Copy"
        ],
        [
         "3",
         "4",
         "BF2a889C00f0cE1",
         "Whitney",
         "Hooper",
         "Male",
         "zjohnston@example.com",
         "+1-939-130-6258",
         "2012-11-17",
         "Counselling psychologist"
        ],
        [
         "4",
         "5",
         "9afFEafAe1CBBB9",
         "Lindsey",
         "Rice",
         "Female",
         "elin@example.net",
         "(390)417-1635x3010",
         "1923-04-15",
         "Biomedical engineer"
        ]
       ],
       "shape": {
        "columns": 9,
        "rows": 5
       }
      },
      "text/html": [
       "<div>\n",
       "<style scoped>\n",
       "    .dataframe tbody tr th:only-of-type {\n",
       "        vertical-align: middle;\n",
       "    }\n",
       "\n",
       "    .dataframe tbody tr th {\n",
       "        vertical-align: top;\n",
       "    }\n",
       "\n",
       "    .dataframe thead th {\n",
       "        text-align: right;\n",
       "    }\n",
       "</style>\n",
       "<table border=\"1\" class=\"dataframe\">\n",
       "  <thead>\n",
       "    <tr style=\"text-align: right;\">\n",
       "      <th></th>\n",
       "      <th>Index</th>\n",
       "      <th>User Id</th>\n",
       "      <th>First Name</th>\n",
       "      <th>Last Name</th>\n",
       "      <th>Sex</th>\n",
       "      <th>Email</th>\n",
       "      <th>Phone</th>\n",
       "      <th>Date of birth</th>\n",
       "      <th>Job Title</th>\n",
       "    </tr>\n",
       "  </thead>\n",
       "  <tbody>\n",
       "    <tr>\n",
       "      <th>0</th>\n",
       "      <td>1</td>\n",
       "      <td>8717bbf45cCDbEe</td>\n",
       "      <td>Shelia</td>\n",
       "      <td>Mahoney</td>\n",
       "      <td>Male</td>\n",
       "      <td>pwarner@example.org</td>\n",
       "      <td>857.139.8239</td>\n",
       "      <td>2014-01-27</td>\n",
       "      <td>Probation officer</td>\n",
       "    </tr>\n",
       "    <tr>\n",
       "      <th>1</th>\n",
       "      <td>2</td>\n",
       "      <td>3d5AD30A4cD38ed</td>\n",
       "      <td>Jo</td>\n",
       "      <td>Rivers</td>\n",
       "      <td>Female</td>\n",
       "      <td>fergusonkatherine@example.net</td>\n",
       "      <td>+1-950-759-8687</td>\n",
       "      <td>1931-07-26</td>\n",
       "      <td>Dancer</td>\n",
       "    </tr>\n",
       "    <tr>\n",
       "      <th>2</th>\n",
       "      <td>3</td>\n",
       "      <td>810Ce0F276Badec</td>\n",
       "      <td>Sheryl</td>\n",
       "      <td>Lowery</td>\n",
       "      <td>Female</td>\n",
       "      <td>fhoward@example.org</td>\n",
       "      <td>(599)782-0605</td>\n",
       "      <td>2013-11-25</td>\n",
       "      <td>Copy</td>\n",
       "    </tr>\n",
       "    <tr>\n",
       "      <th>3</th>\n",
       "      <td>4</td>\n",
       "      <td>BF2a889C00f0cE1</td>\n",
       "      <td>Whitney</td>\n",
       "      <td>Hooper</td>\n",
       "      <td>Male</td>\n",
       "      <td>zjohnston@example.com</td>\n",
       "      <td>+1-939-130-6258</td>\n",
       "      <td>2012-11-17</td>\n",
       "      <td>Counselling psychologist</td>\n",
       "    </tr>\n",
       "    <tr>\n",
       "      <th>4</th>\n",
       "      <td>5</td>\n",
       "      <td>9afFEafAe1CBBB9</td>\n",
       "      <td>Lindsey</td>\n",
       "      <td>Rice</td>\n",
       "      <td>Female</td>\n",
       "      <td>elin@example.net</td>\n",
       "      <td>(390)417-1635x3010</td>\n",
       "      <td>1923-04-15</td>\n",
       "      <td>Biomedical engineer</td>\n",
       "    </tr>\n",
       "  </tbody>\n",
       "</table>\n",
       "</div>"
      ],
      "text/plain": [
       "   Index          User Id First Name Last Name     Sex  \\\n",
       "0      1  8717bbf45cCDbEe     Shelia   Mahoney    Male   \n",
       "1      2  3d5AD30A4cD38ed         Jo    Rivers  Female   \n",
       "2      3  810Ce0F276Badec     Sheryl    Lowery  Female   \n",
       "3      4  BF2a889C00f0cE1    Whitney    Hooper    Male   \n",
       "4      5  9afFEafAe1CBBB9    Lindsey      Rice  Female   \n",
       "\n",
       "                           Email               Phone Date of birth  \\\n",
       "0            pwarner@example.org        857.139.8239    2014-01-27   \n",
       "1  fergusonkatherine@example.net     +1-950-759-8687    1931-07-26   \n",
       "2            fhoward@example.org       (599)782-0605    2013-11-25   \n",
       "3          zjohnston@example.com     +1-939-130-6258    2012-11-17   \n",
       "4               elin@example.net  (390)417-1635x3010    1923-04-15   \n",
       "\n",
       "                  Job Title  \n",
       "0         Probation officer  \n",
       "1                    Dancer  \n",
       "2                      Copy  \n",
       "3  Counselling psychologist  \n",
       "4       Biomedical engineer  "
      ]
     },
     "execution_count": 13,
     "metadata": {},
     "output_type": "execute_result"
    }
   ],
   "source": [
    "# Google drive link to the data\n",
    "people_earl = \"https://drive.google.com/uc?id=1AWPf-pJodJKeHsARQK_RHiNsE8fjPCVK&export=download\"\n",
    "# Load data from google drive link into a panda dataframe\n",
    "people_earl_df = pd.read_csv(people_earl)\n",
    "# Print out the information about the dataframe\n",
    "print(f\"Url : {people_earl}\")\n",
    "print(f\"Dataframe shape : {people_earl_df.shape}\")\n",
    "print(f\"Info            : {str(people_earl_df.info())}\")\n",
    "print(f\"Columns         : {people_earl_df.columns}\")\n",
    "people_earl_df.head()\n"
   ]
  },
  {
   "cell_type": "markdown",
   "id": "c2fadf7c",
   "metadata": {},
   "source": [
    "The column we are interested in the Email column and in specifically the domain in the email address  \n",
    "The email address consist address consits of <user name>@<domain>.\n",
    "An extra column will be added to the data from called Domain , which consists of all the domains of the email address.\n"
   ]
  },
  {
   "cell_type": "code",
   "execution_count": 15,
   "id": "23b257ad",
   "metadata": {},
   "outputs": [
    {
     "data": {
      "application/vnd.microsoft.datawrangler.viewer.v0+json": {
       "columns": [
        {
         "name": "index",
         "rawType": "int64",
         "type": "integer"
        },
        {
         "name": "Index",
         "rawType": "int64",
         "type": "integer"
        },
        {
         "name": "User Id",
         "rawType": "object",
         "type": "string"
        },
        {
         "name": "First Name",
         "rawType": "object",
         "type": "string"
        },
        {
         "name": "Last Name",
         "rawType": "object",
         "type": "string"
        },
        {
         "name": "Sex",
         "rawType": "object",
         "type": "string"
        },
        {
         "name": "Email",
         "rawType": "object",
         "type": "string"
        },
        {
         "name": "Phone",
         "rawType": "object",
         "type": "string"
        },
        {
         "name": "Date of birth",
         "rawType": "object",
         "type": "string"
        },
        {
         "name": "Job Title",
         "rawType": "object",
         "type": "string"
        },
        {
         "name": "Domain",
         "rawType": "object",
         "type": "string"
        }
       ],
       "ref": "8d05db4c-0700-4004-b78c-05b661f6999f",
       "rows": [
        [
         "0",
         "1",
         "8717bbf45cCDbEe",
         "Shelia",
         "Mahoney",
         "Male",
         "pwarner@example.org",
         "857.139.8239",
         "2014-01-27",
         "Probation officer",
         "example.org"
        ],
        [
         "1",
         "2",
         "3d5AD30A4cD38ed",
         "Jo",
         "Rivers",
         "Female",
         "fergusonkatherine@example.net",
         "+1-950-759-8687",
         "1931-07-26",
         "Dancer",
         "example.net"
        ],
        [
         "2",
         "3",
         "810Ce0F276Badec",
         "Sheryl",
         "Lowery",
         "Female",
         "fhoward@example.org",
         "(599)782-0605",
         "2013-11-25",
         "Copy",
         "example.org"
        ],
        [
         "3",
         "4",
         "BF2a889C00f0cE1",
         "Whitney",
         "Hooper",
         "Male",
         "zjohnston@example.com",
         "+1-939-130-6258",
         "2012-11-17",
         "Counselling psychologist",
         "example.com"
        ],
        [
         "4",
         "5",
         "9afFEafAe1CBBB9",
         "Lindsey",
         "Rice",
         "Female",
         "elin@example.net",
         "(390)417-1635x3010",
         "1923-04-15",
         "Biomedical engineer",
         "example.net"
        ]
       ],
       "shape": {
        "columns": 10,
        "rows": 5
       }
      },
      "text/html": [
       "<div>\n",
       "<style scoped>\n",
       "    .dataframe tbody tr th:only-of-type {\n",
       "        vertical-align: middle;\n",
       "    }\n",
       "\n",
       "    .dataframe tbody tr th {\n",
       "        vertical-align: top;\n",
       "    }\n",
       "\n",
       "    .dataframe thead th {\n",
       "        text-align: right;\n",
       "    }\n",
       "</style>\n",
       "<table border=\"1\" class=\"dataframe\">\n",
       "  <thead>\n",
       "    <tr style=\"text-align: right;\">\n",
       "      <th></th>\n",
       "      <th>Index</th>\n",
       "      <th>User Id</th>\n",
       "      <th>First Name</th>\n",
       "      <th>Last Name</th>\n",
       "      <th>Sex</th>\n",
       "      <th>Email</th>\n",
       "      <th>Phone</th>\n",
       "      <th>Date of birth</th>\n",
       "      <th>Job Title</th>\n",
       "      <th>Domain</th>\n",
       "    </tr>\n",
       "  </thead>\n",
       "  <tbody>\n",
       "    <tr>\n",
       "      <th>0</th>\n",
       "      <td>1</td>\n",
       "      <td>8717bbf45cCDbEe</td>\n",
       "      <td>Shelia</td>\n",
       "      <td>Mahoney</td>\n",
       "      <td>Male</td>\n",
       "      <td>pwarner@example.org</td>\n",
       "      <td>857.139.8239</td>\n",
       "      <td>2014-01-27</td>\n",
       "      <td>Probation officer</td>\n",
       "      <td>example.org</td>\n",
       "    </tr>\n",
       "    <tr>\n",
       "      <th>1</th>\n",
       "      <td>2</td>\n",
       "      <td>3d5AD30A4cD38ed</td>\n",
       "      <td>Jo</td>\n",
       "      <td>Rivers</td>\n",
       "      <td>Female</td>\n",
       "      <td>fergusonkatherine@example.net</td>\n",
       "      <td>+1-950-759-8687</td>\n",
       "      <td>1931-07-26</td>\n",
       "      <td>Dancer</td>\n",
       "      <td>example.net</td>\n",
       "    </tr>\n",
       "    <tr>\n",
       "      <th>2</th>\n",
       "      <td>3</td>\n",
       "      <td>810Ce0F276Badec</td>\n",
       "      <td>Sheryl</td>\n",
       "      <td>Lowery</td>\n",
       "      <td>Female</td>\n",
       "      <td>fhoward@example.org</td>\n",
       "      <td>(599)782-0605</td>\n",
       "      <td>2013-11-25</td>\n",
       "      <td>Copy</td>\n",
       "      <td>example.org</td>\n",
       "    </tr>\n",
       "    <tr>\n",
       "      <th>3</th>\n",
       "      <td>4</td>\n",
       "      <td>BF2a889C00f0cE1</td>\n",
       "      <td>Whitney</td>\n",
       "      <td>Hooper</td>\n",
       "      <td>Male</td>\n",
       "      <td>zjohnston@example.com</td>\n",
       "      <td>+1-939-130-6258</td>\n",
       "      <td>2012-11-17</td>\n",
       "      <td>Counselling psychologist</td>\n",
       "      <td>example.com</td>\n",
       "    </tr>\n",
       "    <tr>\n",
       "      <th>4</th>\n",
       "      <td>5</td>\n",
       "      <td>9afFEafAe1CBBB9</td>\n",
       "      <td>Lindsey</td>\n",
       "      <td>Rice</td>\n",
       "      <td>Female</td>\n",
       "      <td>elin@example.net</td>\n",
       "      <td>(390)417-1635x3010</td>\n",
       "      <td>1923-04-15</td>\n",
       "      <td>Biomedical engineer</td>\n",
       "      <td>example.net</td>\n",
       "    </tr>\n",
       "  </tbody>\n",
       "</table>\n",
       "</div>"
      ],
      "text/plain": [
       "   Index          User Id First Name Last Name     Sex  \\\n",
       "0      1  8717bbf45cCDbEe     Shelia   Mahoney    Male   \n",
       "1      2  3d5AD30A4cD38ed         Jo    Rivers  Female   \n",
       "2      3  810Ce0F276Badec     Sheryl    Lowery  Female   \n",
       "3      4  BF2a889C00f0cE1    Whitney    Hooper    Male   \n",
       "4      5  9afFEafAe1CBBB9    Lindsey      Rice  Female   \n",
       "\n",
       "                           Email               Phone Date of birth  \\\n",
       "0            pwarner@example.org        857.139.8239    2014-01-27   \n",
       "1  fergusonkatherine@example.net     +1-950-759-8687    1931-07-26   \n",
       "2            fhoward@example.org       (599)782-0605    2013-11-25   \n",
       "3          zjohnston@example.com     +1-939-130-6258    2012-11-17   \n",
       "4               elin@example.net  (390)417-1635x3010    1923-04-15   \n",
       "\n",
       "                  Job Title       Domain  \n",
       "0         Probation officer  example.org  \n",
       "1                    Dancer  example.net  \n",
       "2                      Copy  example.org  \n",
       "3  Counselling psychologist  example.com  \n",
       "4       Biomedical engineer  example.net  "
      ]
     },
     "execution_count": 15,
     "metadata": {},
     "output_type": "execute_result"
    }
   ],
   "source": [
    "# Extract domain from email using string operations as per Andrew Beatty\n",
    "people_earl_df['Domain'] = people_earl_df['Email'].str.split('@').str[1]\n",
    "# There are other ways of doing this using regex\n",
    "# people_earl_df['Domain'] = people_earl_df['Email'].str.extract(r'@(.+)')\n",
    "# people_earl_df['Domain'] = people_earl_df['Email'].str.replace(r'.+@', '', regex=True)\n",
    "# this is the coolest way - apply a lambda function to the email column\n",
    "# people_earl_df['Domain'] = people_earl_df['Email'].apply(lambda x: x.split('@')[1])\n",
    "people_earl_df.head()\n"
   ]
  },
  {
   "cell_type": "markdown",
   "id": "766a9527",
   "metadata": {},
   "source": [
    "Do a group by of the email data and order by count"
   ]
  },
  {
   "cell_type": "code",
   "execution_count": 19,
   "id": "b3fc0e3e",
   "metadata": {},
   "outputs": [
    {
     "data": {
      "application/vnd.microsoft.datawrangler.viewer.v0+json": {
       "columns": [
        {
         "name": "Domain",
         "rawType": "object",
         "type": "string"
        },
        {
         "name": "count",
         "rawType": "int64",
         "type": "integer"
        }
       ],
       "ref": "19ea33f6-3ad1-40bd-8eb4-eb43ac06530a",
       "rows": [
        [
         "example.org",
         "341"
        ],
        [
         "example.com",
         "339"
        ],
        [
         "example.net",
         "320"
        ]
       ],
       "shape": {
        "columns": 1,
        "rows": 3
       }
      },
      "text/plain": [
       "Domain\n",
       "example.org    341\n",
       "example.com    339\n",
       "example.net    320\n",
       "Name: count, dtype: int64"
      ]
     },
     "execution_count": 19,
     "metadata": {},
     "output_type": "execute_result"
    }
   ],
   "source": [
    "people_earl_df['Domain'].value_counts().sort_values(ascending=False).head(10)"
   ]
  },
  {
   "cell_type": "markdown",
   "id": "57cde600",
   "metadata": {},
   "source": [
    "# Plot PIE chart\n",
    "\n",
    "\n",
    "[Matplot Lib Pie charts documentation](https://matplotlib.org/stable/gallery/pie_and_polar_charts/pie_features.html)\n",
    "\n"
   ]
  },
  {
   "cell_type": "code",
   "execution_count": 43,
   "id": "d8a4f9e3",
   "metadata": {},
   "outputs": [
    {
     "data": {
      "image/png": "[encoded data removed]",
      "text/plain": [
       "<Figure size 640x480 with 1 Axes>"
      ]
     },
     "metadata": {},
     "output_type": "display_data"
    }
   ],
   "source": [
    "# 1st we need to get counts of the domains\n",
    "domain_counts = people_earl_df['Domain'].value_counts()\n",
    "# domain counts - column names\n",
    "plt.pie(domain_counts, labels=domain_counts.index, autopct='%1.1f%%')\n",
    "plt.axis('equal')  # Equal aspect ratio ensures that pie is drawn as a circle.\n",
    "plt.title('Email Domain Percentages Pie Chart')\n",
    "plt.show()"
   ]
  }
 ],
 "metadata": {
  "kernelspec": {
   "display_name": "base",
   "language": "python",
   "name": "python3"
  },
  "language_info": {
   "codemirror_mode": {
    "name": "ipython",
    "version": 3
   },
   "file_extension": ".py",
   "mimetype": "text/x-python",
   "name": "python",
   "nbconvert_exporter": "python",
   "pygments_lexer": "ipython3",
   "version": "3.12.11"
  }
 },
 "nbformat": 4,
 "nbformat_minor": 5
}
